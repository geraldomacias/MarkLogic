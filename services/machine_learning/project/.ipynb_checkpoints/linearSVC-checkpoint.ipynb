{
 "cells": [
  {
   "cell_type": "markdown",
   "metadata": {},
   "source": [
    "# Linear SVC"
   ]
  },
  {
   "cell_type": "code",
   "execution_count": 1,
   "metadata": {},
   "outputs": [],
   "source": [
    "# import json\n",
    "# import pandas as pd\n",
    "# from sklearn import svm\n",
    "# from sklearn.svm import LinearSVC\n",
    "# from sklearn.datasets import make_classification\n",
    "# from sklearn.preprocessing import MultiLabelBinarizer\n",
    "# from sklearn.feature_extraction.text import TfidfVectorizer\n",
    "# from sklearn.feature_extraction.text import HashingVectorizer"
   ]
  },
  {
   "cell_type": "markdown",
   "metadata": {},
   "source": [
    "* LinearSVC implements “one-vs-the-rest” multi-class strategy, thus training n_class models.\n",
    "* An array X of size [n_samples, n_features] holding the training samples\n",
    "* Array Y of class labels (strings or integers), size [n_samples]:"
   ]
  },
  {
   "cell_type": "code",
   "execution_count": 2,
   "metadata": {},
   "outputs": [],
   "source": [
    "#X = [[0], [1], [2], [3], [4]]\n",
    "#Y = [0, 1, 2, 3, 4]"
   ]
  },
  {
   "cell_type": "code",
   "execution_count": 3,
   "metadata": {},
   "outputs": [],
   "source": [
    "#lin_clf = svm.LinearSVC()\n",
    "#lin_clf.fit(X, Y) "
   ]
  },
  {
   "cell_type": "code",
   "execution_count": null,
   "metadata": {},
   "outputs": [],
   "source": []
  },
  {
   "cell_type": "code",
   "execution_count": null,
   "metadata": {},
   "outputs": [],
   "source": []
  },
  {
   "cell_type": "code",
   "execution_count": 4,
   "metadata": {},
   "outputs": [],
   "source": [
    "# with open('data.json') as f:\n",
    "#     data = json.load(f)"
   ]
  },
  {
   "cell_type": "markdown",
   "metadata": {},
   "source": [
    "Create a TfidfVectorizer for out data"
   ]
  },
  {
   "cell_type": "code",
   "execution_count": 5,
   "metadata": {},
   "outputs": [],
   "source": [
    "# vectorizer = TfidfVectorizer()\n",
    "# X = [\n",
    "#     vectorizer.fit_transform(data['football']),\n",
    "#     vectorizer.fit_transform(data['basketball']),\n",
    "#     vectorizer.fit_transform(data['hockey']),\n",
    "#     vectorizer.fit_transform(data['baseball']),\n",
    "#     vectorizer.fit_transform(data['soccer'])\n",
    "#     ]\n",
    "\n",
    "\n",
    "# X = [\n",
    "#         data['football'],\n",
    "#         data['basketball'],\n",
    "#         data['hockey'],\n",
    "#         data['baseball'],\n",
    "#         data['soccer']\n",
    "#     ]"
   ]
  },
  {
   "cell_type": "markdown",
   "metadata": {},
   "source": [
    "# Pandas vectorized column names"
   ]
  },
  {
   "cell_type": "code",
   "execution_count": 6,
   "metadata": {},
   "outputs": [],
   "source": [
    "# vector = []\n",
    "# Y = []\n",
    "# vectorizer = HashingVectorizer(n_features=2 ** 20)\n",
    "# for element in data:\n",
    "#     vector.append(vectorizer.fit_transform(element))\n",
    "#     for key in element.keys():\n",
    "#         Y.append(key)"
   ]
  },
  {
   "cell_type": "code",
   "execution_count": 7,
   "metadata": {},
   "outputs": [],
   "source": [
    "# df = pd.DataFrame(data=vector, columns=['vector'])\n",
    "# df['sport'] = Y"
   ]
  },
  {
   "cell_type": "code",
   "execution_count": 8,
   "metadata": {},
   "outputs": [],
   "source": [
    "# vectorizer = HashingVectorizer(n_features=2 ** 20)"
   ]
  },
  {
   "cell_type": "code",
   "execution_count": 9,
   "metadata": {},
   "outputs": [],
   "source": [
    "# lin_clf = svm.LinearSVC()\n",
    "# lin_clf.fit(df.vector, df.sport)"
   ]
  },
  {
   "cell_type": "code",
   "execution_count": null,
   "metadata": {},
   "outputs": [],
   "source": []
  },
  {
   "cell_type": "code",
   "execution_count": 10,
   "metadata": {},
   "outputs": [],
   "source": [
    "# Y = ['football', 'basketball', 'hockey', 'baseball', 'soccer']\n",
    "# df = pd.DataFrame(data=X, index=Y)"
   ]
  },
  {
   "cell_type": "markdown",
   "metadata": {},
   "source": [
    "Scikit learn must have a 2d matrix so I am filling the excess values with a blank string for now"
   ]
  },
  {
   "cell_type": "code",
   "execution_count": 11,
   "metadata": {},
   "outputs": [],
   "source": [
    "# df = df.transpose()\n",
    "# df.fillna(value=\"\", inplace=True)\n",
    "# df.head()"
   ]
  },
  {
   "cell_type": "code",
   "execution_count": 12,
   "metadata": {},
   "outputs": [],
   "source": [
    "# vectorizer = TfidfVectorizer()\n",
    "# vectorizer.fit_transform(data['football'])\n",
    "# lin_clf = svm.LinearSVC()\n",
    "# lin_clf.fit(vectorizer.get_feature_names(), 'football')"
   ]
  },
  {
   "cell_type": "markdown",
   "metadata": {},
   "source": [
    "Vectorizer does not work with scm.LinearSVC() because some column names have numbers in them.\n",
    "* Ex: ValueError: could not convert string to float: '1stdown'\n"
   ]
  },
  {
   "cell_type": "markdown",
   "metadata": {},
   "source": [
    "# HashingVectorizer"
   ]
  },
  {
   "cell_type": "markdown",
   "metadata": {},
   "source": [
    "* n_features : integer, default = (2 ** 20)\n",
    "* The number of features (columns) in the output matrices. \n",
    "* Small numbers of features are likely to cause hash collisions, but large numbers will cause larger coefficient dimensions in linear learners."
   ]
  },
  {
   "cell_type": "code",
   "execution_count": 13,
   "metadata": {},
   "outputs": [],
   "source": [
    "# vectorizer = HashingVectorizer(n_features=2 ** 20)\n",
    "# # X = vectorizer.fit_transform(data)\n",
    "# # No longer works becasue of change in data.json"
   ]
  },
  {
   "cell_type": "code",
   "execution_count": 14,
   "metadata": {},
   "outputs": [],
   "source": [
    "# lin_clf = svm.LinearSVC()\n",
    "# lin_clf.fit(df.vector, df.sport)"
   ]
  },
  {
   "cell_type": "code",
   "execution_count": 15,
   "metadata": {},
   "outputs": [],
   "source": [
    "# sample = {}\n",
    "# sample['new'] = ['steal', 'homerun', 'strikeout']\n",
    "# Z = vectorizer.fit_transform(sample)\n",
    "# dec = lin_clf.decision_function(Z)"
   ]
  },
  {
   "cell_type": "code",
   "execution_count": 16,
   "metadata": {},
   "outputs": [],
   "source": [
    "# dec"
   ]
  },
  {
   "cell_type": "code",
   "execution_count": 17,
   "metadata": {},
   "outputs": [],
   "source": [
    "# print(X)"
   ]
  },
  {
   "cell_type": "code",
   "execution_count": null,
   "metadata": {},
   "outputs": [],
   "source": []
  },
  {
   "cell_type": "markdown",
   "metadata": {},
   "source": [
    "# Dict Vectorizer"
   ]
  },
  {
   "cell_type": "code",
   "execution_count": 18,
   "metadata": {},
   "outputs": [],
   "source": [
    "#from sklearn.feature_extraction import DictVectorizer"
   ]
  },
  {
   "cell_type": "code",
   "execution_count": 19,
   "metadata": {},
   "outputs": [],
   "source": [
    "# vec = DictVectorizer()\n",
    "# vec.fit_transform(data).toarray()"
   ]
  },
  {
   "cell_type": "markdown",
   "metadata": {},
   "source": [
    "* Dict Vectorizer does not like the shape of data.\n",
    "* Data key -> value is 'sport' -> ['column names',...]"
   ]
  },
  {
   "cell_type": "code",
   "execution_count": 20,
   "metadata": {},
   "outputs": [],
   "source": [
    "# df = pd.DataFrame.from_dict(data, orient='index')\n",
    "# df = df.transpose()\n",
    "# df.head()"
   ]
  },
  {
   "cell_type": "code",
   "execution_count": 21,
   "metadata": {},
   "outputs": [],
   "source": [
    "# # 0 -> football\n",
    "# # 1 -> basketball\n",
    "# # 0 -> hockey\n",
    "# # 0 -> baseball\n",
    "# # 0 -> soccer\n",
    "\n",
    "# X = [[0], [1], [2], [3], [4]]"
   ]
  },
  {
   "cell_type": "code",
   "execution_count": 22,
   "metadata": {},
   "outputs": [],
   "source": [
    "# Y = [len(data['football']),\n",
    "#      len(data['basketball']),\n",
    "#      len(data['hockey']),\n",
    "#      len(data['baseball']),\n",
    "#      len(data['soccer'])]"
   ]
  },
  {
   "cell_type": "code",
   "execution_count": 23,
   "metadata": {},
   "outputs": [],
   "source": [
    "#lin_clf = svm.LinearSVC()\n",
    "#lin_clf.fit(X, Y)\n"
   ]
  },
  {
   "cell_type": "code",
   "execution_count": 24,
   "metadata": {},
   "outputs": [],
   "source": [
    "# dec = lin_clf.decision_function([[1]])\n",
    "# dec"
   ]
  },
  {
   "cell_type": "code",
   "execution_count": 25,
   "metadata": {},
   "outputs": [],
   "source": [
    "# Y = [data['football'], \n",
    "#      data['basketball'], \n",
    "#      data['hockey'], \n",
    "#      data['baseball'], \n",
    "#      data['soccer']]\n",
    "# Y = MultiLabelBinarizer().fit_transform(Y)"
   ]
  },
  {
   "cell_type": "code",
   "execution_count": 26,
   "metadata": {},
   "outputs": [],
   "source": [
    "# lin_clf = svm.LinearSVC()\n",
    "# lin_clf.fit(X, Y) "
   ]
  },
  {
   "cell_type": "markdown",
   "metadata": {},
   "source": [
    "* Research TfidfVectorizer\n",
    "* https://scikit-learn.org/stable/modules/generated/sklearn.feature_extraction.text.TfidfVectorizer.html\n",
    "* lin_clf.fit() is complaining about bad input shape\n",
    "* https://scikit-learn.org/stable/modules/generated/sklearn.feature_extraction.text.HashingVectorizer.html"
   ]
  },
  {
   "cell_type": "code",
   "execution_count": null,
   "metadata": {},
   "outputs": [],
   "source": []
  },
  {
   "cell_type": "code",
   "execution_count": 27,
   "metadata": {},
   "outputs": [],
   "source": [
    "# from sklearn import preprocessing\n",
    "# import pandas as pd\n",
    "# import json"
   ]
  },
  {
   "cell_type": "code",
   "execution_count": 28,
   "metadata": {},
   "outputs": [],
   "source": [
    "# # Import json file\n",
    "# with open('data.json') as f:\n",
    "#     data = json.load(f)"
   ]
  },
  {
   "cell_type": "code",
   "execution_count": 29,
   "metadata": {},
   "outputs": [],
   "source": [
    "# # Load json file into pandas dataframe\n",
    "# df = pd.read_json('data.json')\n",
    "# df = df.fillna('')"
   ]
  },
  {
   "cell_type": "code",
   "execution_count": 30,
   "metadata": {},
   "outputs": [],
   "source": [
    "# # Create the Labelencoder object\n",
    "# le = preprocessing.LabelEncoder()"
   ]
  },
  {
   "cell_type": "code",
   "execution_count": 31,
   "metadata": {},
   "outputs": [],
   "source": [
    "# # Convert the categorical columns into numeric\n",
    "# encode_value = le.fit_transform(df.columns)\n",
    "# encode_value"
   ]
  },
  {
   "cell_type": "code",
   "execution_count": 32,
   "metadata": {},
   "outputs": [],
   "source": [
    "# # Convert the categorical columns into numeric\n",
    "# for column in df.columns:\n",
    "#     df[column] = le.fit_transform(df[column])"
   ]
  },
  {
   "cell_type": "code",
   "execution_count": null,
   "metadata": {},
   "outputs": [],
   "source": []
  },
  {
   "cell_type": "code",
   "execution_count": null,
   "metadata": {},
   "outputs": [],
   "source": []
  },
  {
   "cell_type": "markdown",
   "metadata": {},
   "source": [
    "# Sci-Kit-Learn Tutorial"
   ]
  },
  {
   "cell_type": "code",
   "execution_count": 33,
   "metadata": {},
   "outputs": [],
   "source": [
    "from sklearn import preprocessing\n",
    "import pandas as pd\n",
    "from collections import defaultdict\n",
    "import json"
   ]
  },
  {
   "cell_type": "code",
   "execution_count": 90,
   "metadata": {},
   "outputs": [],
   "source": [
    "# Import json file\n",
    "with open('data2.json') as f:\n",
    "    data = json.load(f)"
   ]
  },
  {
   "cell_type": "code",
   "execution_count": 91,
   "metadata": {},
   "outputs": [],
   "source": [
    "# Load json file into pandas dataframe\n",
    "#df = pd.read_json('data.json')\n",
    "#df = df.fillna('')"
   ]
  },
  {
   "cell_type": "code",
   "execution_count": 92,
   "metadata": {},
   "outputs": [],
   "source": [
    "X = []\n",
    "Y = []\n",
    "for element in data:\n",
    "    for key in element.keys():\n",
    "        X.append(key)\n",
    "    for value in element.values():\n",
    "        Y.append(value)"
   ]
  },
  {
   "cell_type": "code",
   "execution_count": 93,
   "metadata": {},
   "outputs": [],
   "source": [
    "# Reshap the dataframe to be ['sport', 'col_name']\n",
    "data = pd.DataFrame(X, columns=['sport'])\n",
    "data['col'] = Y\n",
    "data['cop'] = data.sport"
   ]
  },
  {
   "cell_type": "code",
   "execution_count": 94,
   "metadata": {},
   "outputs": [],
   "source": [
    "# data.head()"
   ]
  },
  {
   "cell_type": "code",
   "execution_count": 95,
   "metadata": {},
   "outputs": [],
   "source": [
    "# Create the Labelencoder object\n",
    "le = preprocessing.LabelEncoder()"
   ]
  },
  {
   "cell_type": "code",
   "execution_count": 96,
   "metadata": {},
   "outputs": [],
   "source": [
    "# Convert the categorical columns into numeric\n",
    "encode_value = le.fit_transform(data.columns)\n",
    "# encode_value"
   ]
  },
  {
   "cell_type": "code",
   "execution_count": 97,
   "metadata": {},
   "outputs": [],
   "source": [
    "# Convert the categorical columns into numeric\n",
    "for column in ['sport', 'col']:\n",
    "    data[column] = le.fit_transform(data[column])"
   ]
  },
  {
   "cell_type": "code",
   "execution_count": 98,
   "metadata": {},
   "outputs": [],
   "source": [
    "# data.head()"
   ]
  },
  {
   "cell_type": "code",
   "execution_count": 99,
   "metadata": {},
   "outputs": [],
   "source": [
    "# Create a hashmap of transformed data\n",
    "# {encode_val : \"sport\"}\n",
    "sport_id = {}\n",
    "for name, group in data.groupby(['sport', 'cop']):\n",
    "    sport_id[name[0]] = name[1]"
   ]
  },
  {
   "cell_type": "code",
   "execution_count": 100,
   "metadata": {},
   "outputs": [],
   "source": [
    "# Set the desired output into a separate dataframe\n",
    "target = data.sport"
   ]
  },
  {
   "cell_type": "code",
   "execution_count": 101,
   "metadata": {},
   "outputs": [],
   "source": [
    "# Remove the predictive output from the originial dataset\n",
    "data = data.col"
   ]
  },
  {
   "cell_type": "code",
   "execution_count": 102,
   "metadata": {},
   "outputs": [
    {
     "name": "stderr",
     "output_type": "stream",
     "text": [
      "/anaconda3/lib/python3.6/site-packages/ipykernel_launcher.py:2: FutureWarning: reshape is deprecated and will raise in a subsequent release. Please use .values.reshape(...) instead\n",
      "  \n"
     ]
    }
   ],
   "source": [
    "# Reshape data\n",
    "data = data.reshape(-1, 1)"
   ]
  },
  {
   "cell_type": "code",
   "execution_count": 103,
   "metadata": {},
   "outputs": [],
   "source": [
    "# Train test and split\n",
    "from sklearn.model_selection import train_test_split"
   ]
  },
  {
   "cell_type": "code",
   "execution_count": 104,
   "metadata": {},
   "outputs": [],
   "source": [
    "# Split data set into train and test sets\n",
    "data_train, data_test, target_train, target_test = train_test_split(data, target, test_size = 0.30, random_state = 10)"
   ]
  },
  {
   "cell_type": "markdown",
   "metadata": {},
   "source": [
    "## Naive Bayes"
   ]
  },
  {
   "cell_type": "code",
   "execution_count": 105,
   "metadata": {},
   "outputs": [],
   "source": [
    "# from sklearn.naive_bayes import GaussianNB\n",
    "# from sklearn.metrics import accuracy_score"
   ]
  },
  {
   "cell_type": "code",
   "execution_count": 106,
   "metadata": {},
   "outputs": [],
   "source": [
    "# Create an object of the type GaussianNB\n",
    "# gnb = GaussianNB()"
   ]
  },
  {
   "cell_type": "code",
   "execution_count": 107,
   "metadata": {},
   "outputs": [],
   "source": [
    "# Train the algorithm on training data and predict using the testing data\n",
    "# pred = gnb.fit(data_train, target_train).predict(data_test)"
   ]
  },
  {
   "cell_type": "code",
   "execution_count": 108,
   "metadata": {},
   "outputs": [],
   "source": [
    "# print(\"Naive-Bayes accuracy: \", accuracy_score(target_test, pred, normalize=True))"
   ]
  },
  {
   "cell_type": "markdown",
   "metadata": {},
   "source": [
    "## LinearSVC"
   ]
  },
  {
   "cell_type": "code",
   "execution_count": 129,
   "metadata": {},
   "outputs": [],
   "source": [
    "from sklearn.svm import LinearSVC\n",
    "from sklearn.metrics import accuracy_score"
   ]
  },
  {
   "cell_type": "code",
   "execution_count": 130,
   "metadata": {},
   "outputs": [],
   "source": [
    "# Create an object of the type LinearSVC\n",
    "svc_model = LinearSVC(random_state=0)"
   ]
  },
  {
   "cell_type": "code",
   "execution_count": 131,
   "metadata": {},
   "outputs": [],
   "source": [
    "# Train the algorithm on training data and predict using the testing data\n",
    "pred = svc_model.fit(data_train, target_train).predict(data_test)"
   ]
  },
  {
   "cell_type": "code",
   "execution_count": 132,
   "metadata": {},
   "outputs": [
    {
     "name": "stdout",
     "output_type": "stream",
     "text": [
      "LinearSVC accuracy:  0.21739130434782608\n"
     ]
    }
   ],
   "source": [
    "print(\"LinearSVC accuracy: \", accuracy_score(target_test, pred, normalize=True))"
   ]
  },
  {
   "cell_type": "markdown",
   "metadata": {},
   "source": [
    "## K-Neighbors Classifier"
   ]
  },
  {
   "cell_type": "code",
   "execution_count": 133,
   "metadata": {},
   "outputs": [],
   "source": [
    "from sklearn.neighbors import KNeighborsClassifier\n",
    "from sklearn.metrics import accuracy_score"
   ]
  },
  {
   "cell_type": "code",
   "execution_count": 134,
   "metadata": {},
   "outputs": [],
   "source": [
    "# Create object of the classifier\n",
    "neigh = KNeighborsClassifier(n_neighbors=3)"
   ]
  },
  {
   "cell_type": "code",
   "execution_count": 135,
   "metadata": {},
   "outputs": [
    {
     "data": {
      "text/plain": [
       "KNeighborsClassifier(algorithm='auto', leaf_size=30, metric='minkowski',\n",
       "           metric_params=None, n_jobs=1, n_neighbors=3, p=2,\n",
       "           weights='uniform')"
      ]
     },
     "execution_count": 135,
     "metadata": {},
     "output_type": "execute_result"
    }
   ],
   "source": [
    "#Train the algorithm\n",
    "neigh.fit(data_train, target_train)"
   ]
  },
  {
   "cell_type": "code",
   "execution_count": 136,
   "metadata": {},
   "outputs": [],
   "source": [
    "# Predict the response\n",
    "pred = neigh.predict(data_test)"
   ]
  },
  {
   "cell_type": "code",
   "execution_count": 119,
   "metadata": {},
   "outputs": [],
   "source": [
    "# print('KNeighbors accuracy score: ', accuracy_score(target_test, pred))"
   ]
  },
  {
   "cell_type": "markdown",
   "metadata": {},
   "source": [
    "## NB Test"
   ]
  },
  {
   "cell_type": "code",
   "execution_count": 120,
   "metadata": {},
   "outputs": [
    {
     "data": {
      "text/html": [
       "<div>\n",
       "<style scoped>\n",
       "    .dataframe tbody tr th:only-of-type {\n",
       "        vertical-align: middle;\n",
       "    }\n",
       "\n",
       "    .dataframe tbody tr th {\n",
       "        vertical-align: top;\n",
       "    }\n",
       "\n",
       "    .dataframe thead th {\n",
       "        text-align: right;\n",
       "    }\n",
       "</style>\n",
       "<table border=\"1\" class=\"dataframe\">\n",
       "  <thead>\n",
       "    <tr style=\"text-align: right;\">\n",
       "      <th></th>\n",
       "      <th>id</th>\n",
       "      <th>FirstName</th>\n",
       "      <th>LastName</th>\n",
       "      <th>PlayerNumber</th>\n",
       "      <th>TeamName</th>\n",
       "      <th>PlayerPosition</th>\n",
       "      <th>HomeRuns</th>\n",
       "    </tr>\n",
       "  </thead>\n",
       "  <tbody>\n",
       "    <tr>\n",
       "      <th>0</th>\n",
       "      <td>1</td>\n",
       "      <td>Vinny</td>\n",
       "      <td>Wauchope</td>\n",
       "      <td>59</td>\n",
       "      <td>First Nations University of Canada</td>\n",
       "      <td>client-server</td>\n",
       "      <td>581</td>\n",
       "    </tr>\n",
       "    <tr>\n",
       "      <th>1</th>\n",
       "      <td>2</td>\n",
       "      <td>Laina</td>\n",
       "      <td>Cradduck</td>\n",
       "      <td>63</td>\n",
       "      <td>Universidad Torcuato di Tella</td>\n",
       "      <td>Up-sized</td>\n",
       "      <td>253</td>\n",
       "    </tr>\n",
       "    <tr>\n",
       "      <th>2</th>\n",
       "      <td>3</td>\n",
       "      <td>Erwin</td>\n",
       "      <td>Matei</td>\n",
       "      <td>74</td>\n",
       "      <td>Universidad Peruana Union</td>\n",
       "      <td>clear-thinking</td>\n",
       "      <td>415</td>\n",
       "    </tr>\n",
       "    <tr>\n",
       "      <th>3</th>\n",
       "      <td>4</td>\n",
       "      <td>Shea</td>\n",
       "      <td>Dubery</td>\n",
       "      <td>97</td>\n",
       "      <td>Fachhochschule Gießen-Friedberg</td>\n",
       "      <td>maximized</td>\n",
       "      <td>648</td>\n",
       "    </tr>\n",
       "    <tr>\n",
       "      <th>4</th>\n",
       "      <td>5</td>\n",
       "      <td>Eolanda</td>\n",
       "      <td>Jobbins</td>\n",
       "      <td>57</td>\n",
       "      <td>Ho Chi Minh City University of Agriculture and...</td>\n",
       "      <td>Quality-focused</td>\n",
       "      <td>64</td>\n",
       "    </tr>\n",
       "  </tbody>\n",
       "</table>\n",
       "</div>"
      ],
      "text/plain": [
       "   id FirstName  LastName  PlayerNumber  \\\n",
       "0   1     Vinny  Wauchope            59   \n",
       "1   2     Laina  Cradduck            63   \n",
       "2   3     Erwin     Matei            74   \n",
       "3   4      Shea    Dubery            97   \n",
       "4   5   Eolanda   Jobbins            57   \n",
       "\n",
       "                                            TeamName   PlayerPosition  \\\n",
       "0                 First Nations University of Canada    client-server   \n",
       "1                      Universidad Torcuato di Tella         Up-sized   \n",
       "2                          Universidad Peruana Union   clear-thinking   \n",
       "3                    Fachhochschule Gießen-Friedberg        maximized   \n",
       "4  Ho Chi Minh City University of Agriculture and...  Quality-focused   \n",
       "\n",
       "   HomeRuns  \n",
       "0       581  \n",
       "1       253  \n",
       "2       415  \n",
       "3       648  \n",
       "4        64  "
      ]
     },
     "execution_count": 120,
     "metadata": {},
     "output_type": "execute_result"
    }
   ],
   "source": [
    "df = pd.read_csv('../../../Downloads/MOCK_DATA_ALT_COLUMN_NAMES.csv')\n",
    "cols = df.columns\n",
    "df.head()"
   ]
  },
  {
   "cell_type": "code",
   "execution_count": 121,
   "metadata": {},
   "outputs": [
    {
     "data": {
      "text/plain": [
       "array([6, 0, 2, 3, 5, 4, 1])"
      ]
     },
     "execution_count": 121,
     "metadata": {},
     "output_type": "execute_result"
    }
   ],
   "source": [
    "# Convert the categorical columns into numeric\n",
    "encode_value = le.fit_transform(cols)\n",
    "encode_value"
   ]
  },
  {
   "cell_type": "code",
   "execution_count": 122,
   "metadata": {},
   "outputs": [],
   "source": [
    "# Reshape data\n",
    "encode_value = encode_value.reshape(-1, 1)\n",
    "#encode_value"
   ]
  },
  {
   "cell_type": "code",
   "execution_count": 123,
   "metadata": {},
   "outputs": [],
   "source": [
    "# Train the algorithm on training data and predict using the testing data\n",
    "# pred = gnb.fit(data_train, target_train).predict(encode_value)"
   ]
  },
  {
   "cell_type": "code",
   "execution_count": 124,
   "metadata": {},
   "outputs": [],
   "source": [
    "# sport_id[max(pred)]"
   ]
  },
  {
   "cell_type": "markdown",
   "metadata": {},
   "source": [
    "Naive Bayes predicts soccer when it should be baseball"
   ]
  },
  {
   "cell_type": "markdown",
   "metadata": {},
   "source": [
    "## LinearSVC test"
   ]
  },
  {
   "cell_type": "code",
   "execution_count": 137,
   "metadata": {},
   "outputs": [],
   "source": [
    "pred = svc_model.fit(data_train, target_train).predict(encode_value)"
   ]
  },
  {
   "cell_type": "code",
   "execution_count": 138,
   "metadata": {},
   "outputs": [
    {
     "data": {
      "text/plain": [
       "'basketball'"
      ]
     },
     "execution_count": 138,
     "metadata": {},
     "output_type": "execute_result"
    }
   ],
   "source": [
    "sport_id[max(pred)]"
   ]
  },
  {
   "cell_type": "markdown",
   "metadata": {},
   "source": [
    "Linear SVC predicts soccer when it should be baseball"
   ]
  },
  {
   "cell_type": "markdown",
   "metadata": {},
   "source": [
    "## K-Nearest test"
   ]
  },
  {
   "cell_type": "code",
   "execution_count": 139,
   "metadata": {},
   "outputs": [],
   "source": [
    "neigh = KNeighborsClassifier(n_neighbors=4)"
   ]
  },
  {
   "cell_type": "code",
   "execution_count": 140,
   "metadata": {},
   "outputs": [],
   "source": [
    "pred = neigh.fit(data_train, target_train).predict(encode_value)"
   ]
  },
  {
   "cell_type": "code",
   "execution_count": 144,
   "metadata": {},
   "outputs": [
    {
     "data": {
      "text/plain": [
       "'soccer'"
      ]
     },
     "execution_count": 144,
     "metadata": {},
     "output_type": "execute_result"
    }
   ],
   "source": [
    "predicted_sport = sport_id[max(pred)]\n",
    "predicted_sport"
   ]
  },
  {
   "cell_type": "code",
   "execution_count": 142,
   "metadata": {},
   "outputs": [],
   "source": [
    "df['sport_class'] = predicted_sport"
   ]
  },
  {
   "cell_type": "code",
   "execution_count": 143,
   "metadata": {},
   "outputs": [
    {
     "data": {
      "text/html": [
       "<div>\n",
       "<style scoped>\n",
       "    .dataframe tbody tr th:only-of-type {\n",
       "        vertical-align: middle;\n",
       "    }\n",
       "\n",
       "    .dataframe tbody tr th {\n",
       "        vertical-align: top;\n",
       "    }\n",
       "\n",
       "    .dataframe thead th {\n",
       "        text-align: right;\n",
       "    }\n",
       "</style>\n",
       "<table border=\"1\" class=\"dataframe\">\n",
       "  <thead>\n",
       "    <tr style=\"text-align: right;\">\n",
       "      <th></th>\n",
       "      <th>id</th>\n",
       "      <th>FirstName</th>\n",
       "      <th>LastName</th>\n",
       "      <th>PlayerNumber</th>\n",
       "      <th>TeamName</th>\n",
       "      <th>PlayerPosition</th>\n",
       "      <th>HomeRuns</th>\n",
       "      <th>sport_class</th>\n",
       "    </tr>\n",
       "  </thead>\n",
       "  <tbody>\n",
       "    <tr>\n",
       "      <th>0</th>\n",
       "      <td>1</td>\n",
       "      <td>Vinny</td>\n",
       "      <td>Wauchope</td>\n",
       "      <td>59</td>\n",
       "      <td>First Nations University of Canada</td>\n",
       "      <td>client-server</td>\n",
       "      <td>581</td>\n",
       "      <td>soccer</td>\n",
       "    </tr>\n",
       "    <tr>\n",
       "      <th>1</th>\n",
       "      <td>2</td>\n",
       "      <td>Laina</td>\n",
       "      <td>Cradduck</td>\n",
       "      <td>63</td>\n",
       "      <td>Universidad Torcuato di Tella</td>\n",
       "      <td>Up-sized</td>\n",
       "      <td>253</td>\n",
       "      <td>soccer</td>\n",
       "    </tr>\n",
       "    <tr>\n",
       "      <th>2</th>\n",
       "      <td>3</td>\n",
       "      <td>Erwin</td>\n",
       "      <td>Matei</td>\n",
       "      <td>74</td>\n",
       "      <td>Universidad Peruana Union</td>\n",
       "      <td>clear-thinking</td>\n",
       "      <td>415</td>\n",
       "      <td>soccer</td>\n",
       "    </tr>\n",
       "    <tr>\n",
       "      <th>3</th>\n",
       "      <td>4</td>\n",
       "      <td>Shea</td>\n",
       "      <td>Dubery</td>\n",
       "      <td>97</td>\n",
       "      <td>Fachhochschule Gießen-Friedberg</td>\n",
       "      <td>maximized</td>\n",
       "      <td>648</td>\n",
       "      <td>soccer</td>\n",
       "    </tr>\n",
       "    <tr>\n",
       "      <th>4</th>\n",
       "      <td>5</td>\n",
       "      <td>Eolanda</td>\n",
       "      <td>Jobbins</td>\n",
       "      <td>57</td>\n",
       "      <td>Ho Chi Minh City University of Agriculture and...</td>\n",
       "      <td>Quality-focused</td>\n",
       "      <td>64</td>\n",
       "      <td>soccer</td>\n",
       "    </tr>\n",
       "  </tbody>\n",
       "</table>\n",
       "</div>"
      ],
      "text/plain": [
       "   id FirstName  LastName  PlayerNumber  \\\n",
       "0   1     Vinny  Wauchope            59   \n",
       "1   2     Laina  Cradduck            63   \n",
       "2   3     Erwin     Matei            74   \n",
       "3   4      Shea    Dubery            97   \n",
       "4   5   Eolanda   Jobbins            57   \n",
       "\n",
       "                                            TeamName   PlayerPosition  \\\n",
       "0                 First Nations University of Canada    client-server   \n",
       "1                      Universidad Torcuato di Tella         Up-sized   \n",
       "2                          Universidad Peruana Union   clear-thinking   \n",
       "3                    Fachhochschule Gießen-Friedberg        maximized   \n",
       "4  Ho Chi Minh City University of Agriculture and...  Quality-focused   \n",
       "\n",
       "   HomeRuns sport_class  \n",
       "0       581      soccer  \n",
       "1       253      soccer  \n",
       "2       415      soccer  \n",
       "3       648      soccer  \n",
       "4        64      soccer  "
      ]
     },
     "execution_count": 143,
     "metadata": {},
     "output_type": "execute_result"
    }
   ],
   "source": [
    "df.head()"
   ]
  },
  {
   "cell_type": "markdown",
   "metadata": {},
   "source": [
    "k-nearest predicts football instead of baseball"
   ]
  },
  {
   "cell_type": "markdown",
   "metadata": {},
   "source": [
    "# Overall, LabelEncoder is a poor string -> integer converter\n",
    "## Attempting HashingVectorizer"
   ]
  },
  {
   "cell_type": "code",
   "execution_count": 74,
   "metadata": {},
   "outputs": [],
   "source": [
    "# from sklearn.feature_extraction.text import HashingVectorizer"
   ]
  },
  {
   "cell_type": "code",
   "execution_count": 75,
   "metadata": {},
   "outputs": [],
   "source": [
    "# Import json file\n",
    "# with open('project/data.json') as f:\n",
    "#     data = json.load(f)"
   ]
  },
  {
   "cell_type": "code",
   "execution_count": 76,
   "metadata": {},
   "outputs": [],
   "source": [
    "# X = []\n",
    "# Y = []\n",
    "# for element in data:\n",
    "#     for key in element.keys():\n",
    "#         X.append(key)\n",
    "#     for value in element.values():\n",
    "#         Y.append(value)"
   ]
  },
  {
   "cell_type": "code",
   "execution_count": 77,
   "metadata": {},
   "outputs": [],
   "source": [
    "# # Reshap the dataframe to be ['sport', 'col_name']\n",
    "# data = pd.DataFrame(X, columns=['sport'])\n",
    "# data['col'] = Y\n",
    "# data['cop'] = data.sport"
   ]
  },
  {
   "cell_type": "code",
   "execution_count": 78,
   "metadata": {},
   "outputs": [],
   "source": [
    "# data.head()"
   ]
  },
  {
   "cell_type": "code",
   "execution_count": 79,
   "metadata": {},
   "outputs": [],
   "source": [
    "# # Hashing Vectorizer\n",
    "# vectorizer = HashingVectorizer(n_features=2**4)\n",
    "# data.cop = vectorizer.fit_transform(data.col)"
   ]
  },
  {
   "cell_type": "code",
   "execution_count": 80,
   "metadata": {},
   "outputs": [],
   "source": [
    "# # Set the desired output into a separate dataframe\n",
    "# target = data.sport"
   ]
  },
  {
   "cell_type": "code",
   "execution_count": 81,
   "metadata": {},
   "outputs": [],
   "source": [
    "# # Remove the predictive output from the originial dataset\n",
    "# #data = data.cop\n",
    "# cop = data.cop"
   ]
  },
  {
   "cell_type": "code",
   "execution_count": 82,
   "metadata": {},
   "outputs": [],
   "source": [
    "# # Reshape data\n",
    "# cop = cop.reshape(-1, 1)"
   ]
  },
  {
   "cell_type": "code",
   "execution_count": 83,
   "metadata": {},
   "outputs": [],
   "source": [
    "# # Split data set into train and test sets\n",
    "# data_train, data_test, target_train, target_test = train_test_split(cop, target, test_size = 0.30, random_state = 10)"
   ]
  },
  {
   "cell_type": "markdown",
   "metadata": {},
   "source": [
    "### Naive Bayes"
   ]
  },
  {
   "cell_type": "code",
   "execution_count": 84,
   "metadata": {},
   "outputs": [],
   "source": [
    "# # Train the algorithm on training data and predict using the testing data\n",
    "# pred = gnb.fit(data_train, target_train).predict(data_test)"
   ]
  },
  {
   "cell_type": "markdown",
   "metadata": {},
   "source": [
    "### After talking with MarkLogic, we will have the user configure the uploaded datasets to confirm important column names.\n",
    "* We also need to review data.json and choose important and unique column names for each sport.\n",
    "* Consider using 10 column names per sport to start"
   ]
  },
  {
   "cell_type": "code",
   "execution_count": 85,
   "metadata": {},
   "outputs": [],
   "source": [
    "import json\n",
    "dic = {}\n",
    "dic['filename'] = ['col1', 'col2', 'col3']\n",
    "#dic['file2'] = ['cola', 'colb', 'colc']"
   ]
  },
  {
   "cell_type": "code",
   "execution_count": 86,
   "metadata": {},
   "outputs": [],
   "source": [
    "j = json.dumps(dic)"
   ]
  },
  {
   "cell_type": "code",
   "execution_count": 87,
   "metadata": {},
   "outputs": [
    {
     "data": {
      "text/plain": [
       "'{\"filename\": [\"col1\", \"col2\", \"col3\"]}'"
      ]
     },
     "execution_count": 87,
     "metadata": {},
     "output_type": "execute_result"
    }
   ],
   "source": [
    "j"
   ]
  },
  {
   "cell_type": "code",
   "execution_count": 88,
   "metadata": {},
   "outputs": [
    {
     "data": {
      "text/plain": [
       "{'filename': ['col1', 'col2', 'col3']}"
      ]
     },
     "execution_count": 88,
     "metadata": {},
     "output_type": "execute_result"
    }
   ],
   "source": [
    "json_data = json.loads(j)\n",
    "json_data"
   ]
  },
  {
   "cell_type": "code",
   "execution_count": 89,
   "metadata": {},
   "outputs": [
    {
     "ename": "IndentationError",
     "evalue": "expected an indented block (<ipython-input-89-85911201d1a2>, line 5)",
     "output_type": "error",
     "traceback": [
      "\u001b[0;36m  File \u001b[0;32m\"<ipython-input-89-85911201d1a2>\"\u001b[0;36m, line \u001b[0;32m5\u001b[0m\n\u001b[0;31m    Y\u001b[0m\n\u001b[0m     ^\u001b[0m\n\u001b[0;31mIndentationError\u001b[0m\u001b[0;31m:\u001b[0m expected an indented block\n"
     ]
    }
   ],
   "source": [
    "Y = []\n",
    "for e in json_data:\n",
    "    for a in json_data[e]:\n",
    "        \n",
    "Y"
   ]
  },
  {
   "cell_type": "code",
   "execution_count": null,
   "metadata": {},
   "outputs": [],
   "source": [
    "df.head()"
   ]
  },
  {
   "cell_type": "code",
   "execution_count": null,
   "metadata": {},
   "outputs": [],
   "source": [
    "rows = df.shape[0]\n",
    "rows"
   ]
  },
  {
   "cell_type": "code",
   "execution_count": null,
   "metadata": {},
   "outputs": [],
   "source": [
    "columns = df.columns\n",
    "columns"
   ]
  },
  {
   "cell_type": "code",
   "execution_count": null,
   "metadata": {},
   "outputs": [],
   "source": [
    "# for c in columns:\n",
    "#     if df[c].dtypes\n",
    "# df['Customer Number'].astype('int')"
   ]
  },
  {
   "cell_type": "code",
   "execution_count": null,
   "metadata": {},
   "outputs": [],
   "source": [
    "players = []\n",
    "tp = df.id.dtypes\n",
    "for i in range(rows):\n",
    "    player = {}\n",
    "    for col in columns:\n",
    "        if type(df.loc[i][col]) == tp:\n",
    "            player[col] = int(df.loc[i][col])\n",
    "        else:\n",
    "            player[col] = df.loc[i][col]\n",
    "    players.append(player)\n",
    "    \n",
    "players"
   ]
  },
  {
   "cell_type": "code",
   "execution_count": null,
   "metadata": {},
   "outputs": [],
   "source": [
    "json.dumps(players)"
   ]
  },
  {
   "cell_type": "code",
   "execution_count": null,
   "metadata": {},
   "outputs": [],
   "source": []
  },
  {
   "cell_type": "code",
   "execution_count": null,
   "metadata": {},
   "outputs": [],
   "source": [
    "tp = df.id.dtypes"
   ]
  },
  {
   "cell_type": "code",
   "execution_count": null,
   "metadata": {},
   "outputs": [],
   "source": [
    "import numpy as np\n",
    "a = np.int64()\n",
    "type(a)"
   ]
  },
  {
   "cell_type": "code",
   "execution_count": null,
   "metadata": {},
   "outputs": [],
   "source": [
    "np.dtype(int64)"
   ]
  },
  {
   "cell_type": "code",
   "execution_count": null,
   "metadata": {},
   "outputs": [],
   "source": []
  }
 ],
 "metadata": {
  "kernelspec": {
   "display_name": "Python 3",
   "language": "python",
   "name": "python3"
  },
  "language_info": {
   "codemirror_mode": {
    "name": "ipython",
    "version": 3
   },
   "file_extension": ".py",
   "mimetype": "text/x-python",
   "name": "python",
   "nbconvert_exporter": "python",
   "pygments_lexer": "ipython3",
   "version": "3.6.4"
  }
 },
 "nbformat": 4,
 "nbformat_minor": 2
}
